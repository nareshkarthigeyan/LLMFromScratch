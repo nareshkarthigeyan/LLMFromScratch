{
 "cells": [
  {
   "cell_type": "markdown",
   "id": "d9002b5a",
   "metadata": {},
   "source": [
    "# Data Cleaning\n",
    "Since I'm using chat and conversational data from, let's say, WhatsApp, need to remove all the metadata and have only the text in it."
   ]
  },
  {
   "cell_type": "code",
   "execution_count": 24,
   "id": "c9c3ef4e",
   "metadata": {},
   "outputs": [],
   "source": [
    "import re\n",
    "import pandas as pd"
   ]
  },
  {
   "cell_type": "code",
   "execution_count": 25,
   "id": "082c2008",
   "metadata": {},
   "outputs": [],
   "source": [
    "def read_chat(file_path: str) -> pd.DataFrame:\n",
    "    encryption_message = \"Messages and calls are end-to-end encrypted. Only people in this chat can read, listen to, or share them.\"\n",
    "    media_pattern = \"<Media omitted>\"\n",
    "    email_pattern = r'[A-Za-z0-9._%+-]+@[A-Za-z0-9.-]+\\.[A-Z|a-z]{2,}'\n",
    "    url_pattern = r'http[s]?://(?:[a-zA-Z]|[0-9]|[$-_@.&+]|[!*\\(\\),]|(?:%[0-9a-fA-F][0-9a-fA-F]))+'\n",
    "    edited_message = \"<This message was edited>\"\n",
    "    deleted_message = \"You deleted this message\"\n",
    "    null_message = \"null\"\n",
    "    created_group_message = \"created group\"\n",
    "    added_you_to_group_message = \"added you\"\n",
    "    tagging_pattern = r'@[\\w]+'\n",
    "\n",
    "    with open(file_path, 'r', encoding='utf-8') as f:\n",
    "        lines = f.readlines()\n",
    "\n",
    "    filtered_lines = []\n",
    "    for line in lines:\n",
    "        if (\n",
    "            encryption_message not in line and\n",
    "            deleted_message not in line and\n",
    "            null_message != line.split(\" \")[-1] and\n",
    "            media_pattern not in line and\n",
    "            created_group_message not in line and\n",
    "            added_you_to_group_message not in line and\n",
    "            not re.search(email_pattern, line) and\n",
    "            not re.search(url_pattern, line)\n",
    "        ):\n",
    "            line = line.replace(edited_message, \"\").strip()\n",
    "            line = re.sub(tagging_pattern, \"\", line).strip()\n",
    "            filtered_lines.append(line)\n",
    "    \n",
    "    content = '\\n'.join(filtered_lines)\n",
    "    content = content.replace('\\u202f', ' ')\n",
    "    content = re.sub(\n",
    "        r'\\[(\\d{1,2}/\\d{1,2}/\\d{2,4}, \\d{1,2}:\\d{2}(?::\\d{2})?\\s?[APap][Mm])\\]',\n",
    "        r'\\1',\n",
    "        content\n",
    "    )\n",
    "    content = content.replace('\\u200E', '').replace('\\u200F', '')\n",
    "\n",
    "    pattern = r'(\\d{1,2}/\\d{1,2}/\\d{2,4}, \\d{1,2}:\\d{2}(?::\\d{2})?(?:\\s?[APap][Mm])?)\\s?(?:-|\\~)?\\s?(.*?): (.*?)(?=\\n\\d{1,2}/\\d{1,2}/\\d{2,4}, \\d{1,2}:\\d{2}|$)'\n",
    "    messages = re.findall(pattern, content, re.DOTALL)\n",
    "    df = pd.DataFrame(messages, columns=['timestamp', 'sender', 'message'])\n",
    "\n",
    "    timestamps = []\n",
    "    for timestamp in df['timestamp']:\n",
    "        try:\n",
    "            timestamp = pd.to_datetime(\n",
    "                timestamp, format='mixed', errors='coerce')\n",
    "        except Exception as e:\n",
    "            print(f\"Error parsing timestamp '{timestamp}': {e}\")\n",
    "            timestamp = pd.NaT\n",
    "        timestamps.append(timestamp)\n",
    "\n",
    "    df['timestamp'] = timestamps\n",
    "    return df"
   ]
  },
  {
   "cell_type": "code",
   "execution_count": 26,
   "id": "97f22027",
   "metadata": {},
   "outputs": [],
   "source": [
    "from pathlib import Path\n",
    "all_chats = {}\n",
    "data_directory = Path(\"../data/private\")\n",
    "\n",
    "for file in data_directory.glob('*.txt'):\n",
    "    file_name = file.stem\n",
    "    all_chats[file_name] = read_chat(file)\n",
    "    # print(all_chats[file_name].head(5))"
   ]
  },
  {
   "cell_type": "code",
   "execution_count": 27,
   "id": "569f8449",
   "metadata": {},
   "outputs": [
    {
     "name": "stdout",
     "output_type": "stream",
     "text": [
      "3673021\n"
     ]
    }
   ],
   "source": [
    "encryption_message = \"Messages and calls are end-to-end encrypted. Only people in this chat can read, listen to, or share them.\"\n",
    "\n",
    "text_sequence = \"\"\n",
    "\n",
    "for file_name in all_chats.keys():\n",
    "    df = all_chats[file_name]\n",
    "    \n",
    "    # Drop nulls first\n",
    "    filtered = df['message'].dropna()\n",
    "\n",
    "    # Exclude messages containing any of the unwanted patterns\n",
    "    filtered = filtered[\n",
    "        ~filtered.str.contains(\"document omitted\", case=False) &\n",
    "        ~filtered.str.contains(\"<Media omitted>\", case=False) &\n",
    "        (filtered != encryption_message)\n",
    "    ]\n",
    "    \n",
    "    text_sequence += \" \".join(filtered.values) + \" \"\n",
    "\n",
    "text_sequence = re.sub(r'\\s+', ' ', text_sequence).strip()\n",
    "print(len(text_sequence))"
   ]
  },
  {
   "cell_type": "code",
   "execution_count": 28,
   "id": "f5c95989",
   "metadata": {},
   "outputs": [],
   "source": [
    "with open(\"../output/combined_text.txt\", \"w\", encoding=\"utf-8\") as f:\n",
    "    f.write(text_sequence)"
   ]
  }
 ],
 "metadata": {
  "kernelspec": {
   "display_name": "base",
   "language": "python",
   "name": "python3"
  },
  "language_info": {
   "codemirror_mode": {
    "name": "ipython",
    "version": 3
   },
   "file_extension": ".py",
   "mimetype": "text/x-python",
   "name": "python",
   "nbconvert_exporter": "python",
   "pygments_lexer": "ipython3",
   "version": "3.12.7"
  }
 },
 "nbformat": 4,
 "nbformat_minor": 5
}
