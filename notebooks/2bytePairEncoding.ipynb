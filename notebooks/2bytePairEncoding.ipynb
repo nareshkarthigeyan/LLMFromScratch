{
 "cells": [
  {
   "cell_type": "code",
   "execution_count": 1,
   "id": "71dad64b",
   "metadata": {},
   "outputs": [
    {
     "name": "stdout",
     "output_type": "stream",
     "text": [
      "3673021\n"
     ]
    }
   ],
   "source": [
    "\t\n",
    "with open(\"../output/combined_text.txt\", \"r\", encoding=\"utf-8\") as f:\n",
    "    text_sequence = f.read()\n",
    "\n",
    "print(len(text_sequence))"
   ]
  },
  {
   "cell_type": "markdown",
   "id": "0f4c33bb",
   "metadata": {},
   "source": [
    "# Byte Pair Encoding Algorithm"
   ]
  },
  {
   "cell_type": "code",
   "execution_count": 2,
   "id": "0f9db862",
   "metadata": {},
   "outputs": [],
   "source": [
    "import sys\n",
    "sys.path.append('..')"
   ]
  },
  {
   "cell_type": "code",
   "execution_count": 4,
   "id": "14de7f04",
   "metadata": {},
   "outputs": [
    {
     "name": "stderr",
     "output_type": "stream",
     "text": [
      "100%|██████████| 768/768 [05:01<00:00,  2.55it/s]\n"
     ]
    }
   ],
   "source": [
    "from minbpe import BasicTokenizer\n",
    "\n",
    "tokenizer = BasicTokenizer()\n",
    "tokenizer.train(text_sequence, vocab_size=1024)"
   ]
  },
  {
   "cell_type": "code",
   "execution_count": 5,
   "id": "e25dea8b",
   "metadata": {},
   "outputs": [
    {
     "name": "stdout",
     "output_type": "stream",
     "text": [
      "{0: b'\\x00', 1: b'\\x01', 2: b'\\x02', 3: b'\\x03', 4: b'\\x04', 5: b'\\x05', 6: b'\\x06', 7: b'\\x07', 8: b'\\x08', 9: b'\\t', 10: b'\\n', 11: b'\\x0b', 12: b'\\x0c', 13: b'\\r', 14: b'\\x0e', 15: b'\\x0f', 16: b'\\x10', 17: b'\\x11', 18: b'\\x12', 19: b'\\x13', 20: b'\\x14', 21: b'\\x15', 22: b'\\x16', 23: b'\\x17', 24: b'\\x18', 25: b'\\x19', 26: b'\\x1a', 27: b'\\x1b', 28: b'\\x1c', 29: b'\\x1d', 30: b'\\x1e', 31: b'\\x1f', 32: b' ', 33: b'!', 34: b'\"', 35: b'#', 36: b'$', 37: b'%', 38: b'&', 39: b\"'\", 40: b'(', 41: b')', 42: b'*', 43: b'+', 44: b',', 45: b'-', 46: b'.', 47: b'/', 48: b'0', 49: b'1', 50: b'2', 51: b'3', 52: b'4', 53: b'5', 54: b'6', 55: b'7', 56: b'8', 57: b'9', 58: b':', 59: b';', 60: b'<', 61: b'=', 62: b'>', 63: b'?', 64: b'@', 65: b'A', 66: b'B', 67: b'C', 68: b'D', 69: b'E', 70: b'F', 71: b'G', 72: b'H', 73: b'I', 74: b'J', 75: b'K', 76: b'L', 77: b'M', 78: b'N', 79: b'O', 80: b'P', 81: b'Q', 82: b'R', 83: b'S', 84: b'T', 85: b'U', 86: b'V', 87: b'W', 88: b'X', 89: b'Y', 90: b'Z', 91: b'[', 92: b'\\\\', 93: b']', 94: b'^', 95: b'_', 96: b'`', 97: b'a', 98: b'b', 99: b'c', 100: b'd', 101: b'e', 102: b'f', 103: b'g', 104: b'h', 105: b'i', 106: b'j', 107: b'k', 108: b'l', 109: b'm', 110: b'n', 111: b'o', 112: b'p', 113: b'q', 114: b'r', 115: b's', 116: b't', 117: b'u', 118: b'v', 119: b'w', 120: b'x', 121: b'y', 122: b'z', 123: b'{', 124: b'|', 125: b'}', 126: b'~', 127: b'\\x7f', 128: b'\\x80', 129: b'\\x81', 130: b'\\x82', 131: b'\\x83', 132: b'\\x84', 133: b'\\x85', 134: b'\\x86', 135: b'\\x87', 136: b'\\x88', 137: b'\\x89', 138: b'\\x8a', 139: b'\\x8b', 140: b'\\x8c', 141: b'\\x8d', 142: b'\\x8e', 143: b'\\x8f', 144: b'\\x90', 145: b'\\x91', 146: b'\\x92', 147: b'\\x93', 148: b'\\x94', 149: b'\\x95', 150: b'\\x96', 151: b'\\x97', 152: b'\\x98', 153: b'\\x99', 154: b'\\x9a', 155: b'\\x9b', 156: b'\\x9c', 157: b'\\x9d', 158: b'\\x9e', 159: b'\\x9f', 160: b'\\xa0', 161: b'\\xa1', 162: b'\\xa2', 163: b'\\xa3', 164: b'\\xa4', 165: b'\\xa5', 166: b'\\xa6', 167: b'\\xa7', 168: b'\\xa8', 169: b'\\xa9', 170: b'\\xaa', 171: b'\\xab', 172: b'\\xac', 173: b'\\xad', 174: b'\\xae', 175: b'\\xaf', 176: b'\\xb0', 177: b'\\xb1', 178: b'\\xb2', 179: b'\\xb3', 180: b'\\xb4', 181: b'\\xb5', 182: b'\\xb6', 183: b'\\xb7', 184: b'\\xb8', 185: b'\\xb9', 186: b'\\xba', 187: b'\\xbb', 188: b'\\xbc', 189: b'\\xbd', 190: b'\\xbe', 191: b'\\xbf', 192: b'\\xc0', 193: b'\\xc1', 194: b'\\xc2', 195: b'\\xc3', 196: b'\\xc4', 197: b'\\xc5', 198: b'\\xc6', 199: b'\\xc7', 200: b'\\xc8', 201: b'\\xc9', 202: b'\\xca', 203: b'\\xcb', 204: b'\\xcc', 205: b'\\xcd', 206: b'\\xce', 207: b'\\xcf', 208: b'\\xd0', 209: b'\\xd1', 210: b'\\xd2', 211: b'\\xd3', 212: b'\\xd4', 213: b'\\xd5', 214: b'\\xd6', 215: b'\\xd7', 216: b'\\xd8', 217: b'\\xd9', 218: b'\\xda', 219: b'\\xdb', 220: b'\\xdc', 221: b'\\xdd', 222: b'\\xde', 223: b'\\xdf', 224: b'\\xe0', 225: b'\\xe1', 226: b'\\xe2', 227: b'\\xe3', 228: b'\\xe4', 229: b'\\xe5', 230: b'\\xe6', 231: b'\\xe7', 232: b'\\xe8', 233: b'\\xe9', 234: b'\\xea', 235: b'\\xeb', 236: b'\\xec', 237: b'\\xed', 238: b'\\xee', 239: b'\\xef', 240: b'\\xf0', 241: b'\\xf1', 242: b'\\xf2', 243: b'\\xf3', 244: b'\\xf4', 245: b'\\xf5', 246: b'\\xf6', 247: b'\\xf7', 248: b'\\xf8', 249: b'\\xf9', 250: b'\\xfa', 251: b'\\xfb', 252: b'\\xfc', 253: b'\\xfd', 254: b'\\xfe', 255: b'\\xff', 256: b'e ', 257: b't ', 258: b'\\xf0\\x9f', 259: b's ', 260: b'd ', 261: b'th', 262: b'in', 263: b'o ', 264: b'y ', 265: b'an', 266: b'r ', 267: b'a ', 268: b'\\xf0\\x9f\\x98', 269: b'u ', 270: b'll', 271: b'on', 272: b'h ', 273: b'g ', 274: b'ha', 275: b'en', 276: b'I ', 277: b'er', 278: b'll ', 279: b'm ', 280: b'ing ', 281: b'k ', 282: b'ea', 283: b'..', 284: b'me ', 285: b'\\xf0\\x9f\\x98\\xad', 286: b'te', 287: b'ou', 288: b'? ', 289: b'i ', 290: b'w ', 291: b'sh', 292: b'ar', 293: b'ee', 294: b'oo', 295: b'to ', 296: b'it', 297: b'no', 298: b'st', 299: b'f ', 300: b'it ', 301: b'hh ', 302: b'wa', 303: b'is ', 304: b'or', 305: b'al', 306: b'es', 307: b'li', 308: b'\\xf0\\x9f\\x98\\x82', 309: b'ke ', 310: b\"'s \", 311: b'and ', 312: b'er ', 313: b'di', 314: b'om', 315: b'ti', 316: b'ed ', 317: b'\\xf0\\x9f\\xa4', 318: b\"'t \", 319: b'\\xf0\\x9f\\x98\\xad\\xf0\\x9f\\x98\\xad', 320: b'en ', 321: b'or ', 322: b'wh', 323: b'in ', 324: b'the ', 325: b'ma', 326: b'. ', 327: b'p ', 328: b've ', 329: b'da', 330: b'!!', 331: b'ac', 332: b'na ', 333: b'ee ', 334: b'tha', 335: b'ic', 336: b'es ', 337: b'ou ', 338: b'on ', 339: b'wha', 340: b'mm', 341: b'as', 342: b', ', 343: b'like ', 344: b'wi', 345: b'an ', 346: b'hhh ', 347: b'you ', 348: b'sa', 349: b'\\xf0\\x9f\\xa4\\xa7', 350: b'us', 351: b'n ', 352: b'id', 353: b'to', 354: b'uc', 355: b'ro', 356: b'l ', 357: b'\\xf0\\x9f\\x9a', 358: b'\\xf0\\x9f\\x9a\\xb6', 359: b'\\xe2\\x80', 360: b'was ', 361: b'ere ', 362: b\"on't \", 363: b'ld ', 364: b'he', 365: b'he ', 366: b'pp', 367: b'so ', 368: b'~ ', 369: b'ev', 370: b'is', 371: b'?? ', 372: b\"t's \", 373: b'\\xf0\\x9f\\x98\\xad ', 374: b'wan', 375: b'le ', 376: b'aa', 377: b'ho', 378: b'th ', 379: b\"I'\", 380: b'ur ', 381: b'\\xf0\\x9f\\x98\\x82 ', 382: b'un', 383: b'ur', 384: b'ly ', 385: b'not ', 386: b'ted ', 387: b'for ', 388: b'ut ', 389: b'ir', 390: b'la', 391: b'lo', 392: b're', 393: b'what ', 394: b'all ', 395: b'le', 396: b'my ', 397: b'do ', 398: b'rea', 399: b'yy ', 400: b'me', 401: b'be ', 402: b'one ', 403: b'!! ', 404: b'that ', 405: b'U ', 406: b'did ', 407: b'ge', 408: b'am ', 409: b'gh', 410: b'of ', 411: b\"don't \", 412: b'so', 413: b'ab', 414: b'co', 415: b'ch', 416: b'ri', 417: b'tht ', 418: b'tt', 419: b'now ', 420: b'go', 421: b'be', 422: b'this ', 423: b'ing', 424: b'ra', 425: b'tell ', 426: b'\\xe2\\x80\\x99', 427: b'.. ', 428: b'ww ', 429: b\"I'll \", 430: b'all', 431: b'ok', 432: b'with ', 433: b'ex', 434: b'hh', 435: b'\\xf0\\x9f\\xa4\\xa7 ', 436: b'tal', 437: b'ge ', 438: b'\\x80 ', 439: b'out ', 440: b'ould ', 441: b'! ', 442: b'mm ', 443: b'the', 444: b'day ', 445: b'go ', 446: b'king ', 447: b'ts ', 448: b'yea', 449: b'thing ', 450: b'na', 451: b'do', 452: b'we ', 453: b'\\xf0\\x9f\\x98\\x82\\xf0\\x9f\\x98\\x82 ', 454: b'te ', 455: b'fin', 456: b'se ', 457: b'ooo ', 458: b'\\xf0\\x9f\\x9a\\xb6 ', 459: b'gu', 460: b'are ', 461: b'you', 462: b'\\xf0\\x9f\\x98\\xad\\xf0\\x9f\\x98\\xad ', 463: b'... ', 464: b'ent ', 465: b'\\xf0\\x9f\\xab', 466: b'ff ', 467: b'ght ', 468: b'se', 469: b'if ', 470: b'ter ', 471: b'ay ', 472: b'wanna ', 473: b'\\xf0\\x9f\\x92', 474: b'eee ', 475: b'have ', 476: b'get ', 477: b'Wh', 478: b'ess', 479: b'no ', 480: b'En', 481: b'\\xef\\xb8', 482: b'\\xef\\xb8\\x8f', 483: b'\\xf0\\x9f\\x91', 484: b'ca', 485: b'ust ', 486: b'hu', 487: b'ow ', 488: b'Th', 489: b'how ', 490: b'com', 491: b\"it's \", 492: b'omit', 493: b'hi', 494: b'ch ', 495: b'but ', 496: b'nd ', 497: b'ess ', 498: b'He', 499: b'dn', 500: b'st ', 501: b'...', 502: b'~~ ', 503: b'aa ', 504: b'up ', 505: b'ha ', 506: b'Yea', 507: b'she ', 508: b'will ', 509: b'mo', 510: b'omitted ', 511: b'mor', 512: b'lea', 513: b'yyy ', 514: b'Wha', 515: b'de ', 516: b'mmm ', 517: b'id ', 518: b'oo ', 519: b'tr', 520: b'fee', 521: b'see ', 522: b'di ', 523: b'ta', 524: b'ec', 525: b'why ', 526: b'\\xf0\\x9f\\xa4\\xa3', 527: b'come ', 528: b'we', 529: b'www ', 530: b'wor', 531: b'ome', 532: b'her ', 533: b'da ', 534: b'ga', 535: b'\\xf0\\x9f\\x98\\x80 ', 536: b'when ', 537: b'ally ', 538: b'con', 539: b'arsh', 540: b'only ', 541: b'ap', 542: b'haha', 543: b'\\xf0\\x9f\\xab\\xa0', 544: b'for', 545: b'po', 546: b'Wt ', 547: b'ys ', 548: b'end ', 549: b'just ', 550: b'can ', 551: b'talk ', 552: b'ce ', 553: b'uu ', 554: b'hav', 555: b'time ', 556: b'al ', 557: b'got ', 558: b'* ', 559: b'uch ', 560: b'any', 561: b'ud', 562: b'cl', 563: b'know ', 564: b'ting ', 565: b'want ', 566: b'kk ', 567: b'fuc', 568: b'pro', 569: b'ver', 570: b'can', 571: b'el', 572: b'aaa ', 573: b'at ', 574: b'hhhh ', 575: b'ood ', 576: b'ill ', 577: b'tt ', 578: b'enna ', 579: b'tion ', 580: b'\\xf0\\x9f\\xa4\\xa7\\xf0\\x9f\\xa4\\xa7 ', 581: b'happ', 582: b'should ', 583: b'de', 584: b'si', 585: b'Am ', 586: b'mb', 587: b'ish ', 588: b'ff', 589: b'No ', 590: b'ima', 591: b'ss ', 592: b'fu', 593: b'they ', 594: b'even ', 595: b\"I don't \", 596: b'some', 597: b'0 ', 598: b'tion', 599: b'off ', 600: b'per', 601: b'lee', 602: b'su', 603: b'ye', 604: b'gi', 605: b'ya', 606: b'\\xf0\\x9f\\x98\\xad\\xf0\\x9f\\x98\\xad\\xf0\\x9f\\x98\\xad ', 607: b'dd ', 608: b'ma ', 609: b'min', 610: b'mp', 611: b'Id', 612: b'I was ', 613: b'bo', 614: b'op', 615: b'Tha', 616: b'ill', 617: b'arshin', 618: b'Yeah ', 619: b'ru', 620: b'told ', 621: b\"I'm \", 622: b'ice ', 623: b'there ', 624: b'ever', 625: b'cu', 626: b'vi', 627: b'\\xa5 ', 628: b'didn', 629: b'then ', 630: b'ear', 631: b\"that's \", 632: b'ds ', 633: b'\\xf0\\x9f\\x94', 634: b'pa', 635: b'ther ', 636: b'were ', 637: b'wt ', 638: b'thin', 639: b'as ', 640: b'rom ', 641: b'feel ', 642: b'And ', 643: b'soo ', 644: b'\\xf0\\x9f\\x99', 645: b'slee', 646: b'mi', 647: b'\\xe2\\x80\\x8d', 648: b'ked ', 649: b'c ', 650: b'fine ', 651: b'Enna ', 652: b'\\xe2\\x80\\x99t ', 653: b'much ', 654: b'\\xf0\\x9f\\xa5', 655: b'ter', 656: b'image ', 657: b'ba', 658: b'image omitted ', 659: b'man', 660: b'bac', 661: b'too ', 662: b'ser', 663: b': ', 664: b'hav ', 665: b'Fuc', 666: b'sp', 667: b'ying ', 668: b'yeah ', 669: b'pr', 670: b'see', 671: b'from ', 672: b'dy ', 673: b'ook ', 674: b\"It's \", 675: b\"'ll \", 676: b'ya ', 677: b'okay ', 678: b'ker ', 679: b'ke', 680: b'nn ', 681: b're ', 682: b'bi', 683: b'esh ', 684: b'act', 685: b'\\xef\\xb8\\x8f ', 686: b'ong ', 687: b'your ', 688: b'gg', 689: b'\\xf0\\x9f\\xab\\xa0 ', 690: b'\\xf0\\x9f\\x9a\\xb6\\xf0\\x9f\\x9a\\xb6 ', 691: b'use ', 692: b'Nar', 693: b'\\xf0\\x9f\\x98\\x80', 694: b'vid', 695: b'hmm ', 696: b'bu', 697: b'Ohh ', 698: b'say ', 699: b'yes ', 700: b'pl', 701: b'bab', 702: b'ure ', 703: b'sc', 704: b'also ', 705: b'\\xe2\\x80\\x8d\\xe2', 706: b'ther', 707: b\"That's \", 708: b'ok ', 709: b'ver ', 710: b'him ', 711: b'idk ', 712: b'tha ', 713: b'ine ', 714: b'ry ', 715: b'\\xf0\\x9f\\x98\\x82\\xf0\\x9f\\x98\\x82\\xf0\\x9f\\x98\\x82 ', 716: b'!!! ', 717: b'pla', 718: b'tg ', 719: b'pe', 720: b'more ', 721: b\"can't \", 722: b'I w', 723: b'Sh', 724: b'ms ', 725: b'hi ', 726: b'E ', 727: b'good ', 728: b'ever ', 729: b'\\xe2\\x80\\x8d\\xe2\\x99', 730: b'every', 731: b'tex', 732: b'ii ', 733: b'did u ', 734: b'gir', 735: b'ks ', 736: b\"didn't \", 737: b'make ', 738: b'\\xf0\\x9f\\xa4\\xa3\\xf0\\x9f\\xa4\\xa3', 739: b'R ', 740: b'varshin', 741: b'think ', 742: b'Hehe ', 743: b'where ', 744: b'said ', 745: b'fr', 746: b'fter ', 747: b'Ur ', 748: b'pan', 749: b'No', 750: b'\\xf0\\x9f\\x8f', 751: b'thou', 752: b'ass ', 753: b'ask ', 754: b'gh ', 755: b'ppo ', 756: b'ad', 757: b'I wanna ', 758: b'uk ', 759: b'sm', 760: b'wat', 761: b'Da', 762: b'hmmm ', 763: b'way ', 764: b'tell', 765: b'one', 766: b'und', 767: b'love ', 768: b'thing', 769: b'now', 770: b'tf ', 771: b'wait ', 772: b'yy', 773: b'D ', 774: b'\\xf0\\x9f\\x99\\x84', 775: b'ne', 776: b'fir', 777: b'ow', 778: b'| ', 779: b'back ', 780: b'2 ', 781: b'che', 782: b'What ', 783: b'oooo ', 784: b'qu', 785: b'lit', 786: b'fa', 787: b'esh', 788: b'- ', 789: b'still ', 790: b'Idk ', 791: b'up', 792: b'stic', 793: b'gr', 794: b'\\xe2\\x9d', 795: b'call ', 796: b'\\xe2\\x80\\x8d\\xe2\\x99\\x80', 797: b'ent', 798: b'r u ', 799: b'aga', 800: b'ohhh ', 801: b'ually ', 802: b'Li', 803: b'har', 804: b'tell me ', 805: b'So', 806: b'\\xe2\\x80\\x99s ', 807: b'han', 808: b'take ', 809: b'haha ', 810: b'ding ', 811: b'ce', 812: b'??? ', 813: b'ir ', 814: b'It ', 815: b'here ', 816: b'star', 817: b'happen', 818: b'T ', 819: b'!? ', 820: b'jo', 821: b'do u ', 822: b'mmmm ', 823: b'don', 824: b'today ', 825: b'5 ', 826: b'ohh ', 827: b'b ', 828: b'Ye', 829: b'some ', 830: b'lly ', 831: b'after ', 832: b'kkk ', 833: b'**', 834: b'\\xf0\\x9f\\x8f\\xbb', 835: b'had ', 836: b'mma ', 837: b'Hu', 838: b'unde ', 839: b'give ', 840: b'par', 841: b'about ', 842: b'gn', 843: b'How ', 844: b'anything ', 845: b'nar', 846: b'ttt ', 847: b'send ', 848: b'ye ', 849: b'est ', 850: b'im ', 851: b'hea', 852: b'Ohhh ', 853: b'hehe ', 854: b\"Don't \", 855: b'y? ', 856: b'sw', 857: b'fri', 858: b't? ', 859: b'did not ', 860: b'in the ', 861: b'esss ', 862: b'So ', 863: b'But ', 864: b'sel', 865: b'\\xe2\\x9d\\xa4', 866: b'sta', 867: b'sleep ', 868: b'uk', 869: b'ways ', 870: b'its ', 871: b'uuu ', 872: b'his ', 873: b'pic', 874: b'fi', 875: b'iss ', 876: b'I am ', 877: b'ni', 878: b'it was ', 879: b'ast ', 880: b'illa ', 881: b'gg ', 882: b'Why ', 883: b'S ', 884: b') ', 885: b'shit ', 886: b'Te', 887: b'\\xe2\\x80\\x99ll ', 888: b'ed to ', 889: b'Ok', 890: b'ound ', 891: b'O ', 892: b'by ', 893: b'ning ', 894: b'--', 895: b'If ', 896: b'tea', 897: b've', 898: b'else ', 899: b'han ', 900: b'mean ', 901: b'br', 902: b'bout ', 903: b'ass', 904: b'cou', 905: b'ull ', 906: b'nee', 907: b'He ', 908: b\"e's \", 909: b'Fuck ', 910: b'This ', 911: b'leave ', 912: b'wr', 913: b'shh ', 914: b\"n't \", 915: b'first ', 916: b'An', 917: b'tur', 918: b'ry', 919: b'1 ', 920: b'our ', 921: b'Y ', 922: b'\\xf0\\x9f\\x94\\xa5 ', 923: b'ck ', 924: b'\" ', 925: b'\\xf0\\x9f\\x8f\\xbb\\xe2\\x80\\x8d\\xe2\\x99\\x80', 926: b'Ha', 927: b'sticker ', 928: b'call', 929: b'other ', 930: b'son', 931: b'ed', 932: b'\\xf0\\x9f\\x9a\\xb6\\xf0\\x9f\\x8f\\xbb\\xe2\\x80\\x8d\\xe2\\x99\\x80', 933: b'her', 934: b'inter', 935: b'ext ', 936: b'talking ', 937: b'mee', 938: b'St', 939: b'ich ', 940: b'....', 941: b'hahaha ', 942: b'actually ', 943: b'us ', 944: b'nice ', 945: b'rr ', 946: b'Naresh ', 947: b'Did ', 948: b'fuck ', 949: b'same ', 950: b'would ', 951: b'war', 952: b'seri ', 953: b'who ', 954: b'huh ', 955: b'bish ', 956: b'gud ', 957: b'ah ', 958: b'apdi ', 959: b'du', 960: b'z ', 961: b'\\xf0\\x9f\\x92\\xa5 ', 962: b'eep ', 963: b'Le', 964: b'Shut ', 965: b'ahh ', 966: b'to me ', 967: b'image omitted image omitted ', 968: b'\\xf0\\x9f\\x98\\xb3', 969: b'A ', 970: b'coming ', 971: b'right ', 972: b'ay', 973: b'never ', 974: b'sor', 975: b'We ', 976: b'ide ', 977: b'ohh', 978: b'text ', 979: b'Ser', 980: b'3 ', 981: b'ang', 982: b'\\xf0\\x9f\\x99\\x84 ', 983: b'gon', 984: b'bad ', 985: b'\\xf0\\x9f\\x98\\xad\\xf0\\x9f\\x98\\xad\\xf0\\x9f\\x98\\xad\\xf0\\x9f\\x98\\xad ', 986: b'dy', 987: b'She ', 988: b'varshini ', 989: b'Bish ', 990: b'Yes ', 991: b'watch ', 992: b'sticker omitted ', 993: b'man ', 994: b'sen', 995: b'ie ', 996: b'hey ', 997: b'girl ', 998: b'dow', 999: b'tim', 1000: b'Vid', 1001: b'soll', 1002: b'Wa', 1003: b'ready ', 1004: b'any ', 1005: b'\\xf0\\x9f\\x94\\xa5', 1006: b'ls ', 1007: b'stud', 1008: b'thought ', 1009: b'cause ', 1010: b'sure ', 1011: b'str', 1012: b'nic', 1013: b'ci', 1014: b'telling ', 1015: b's, ', 1016: b'Not ', 1017: b'R u ', 1018: b'ayy ', 1019: b'home ', 1020: b'tter ', 1021: b'stor', 1022: b'Like ', 1023: b'??'}\n"
     ]
    }
   ],
   "source": [
    "vocab = tokenizer.vocab\n",
    "print(vocab)"
   ]
  },
  {
   "cell_type": "code",
   "execution_count": 10,
   "id": "3e54cbb0",
   "metadata": {},
   "outputs": [
    {
     "data": {
      "text/plain": [
       "[946, 75, 292, 261, 105, 407, 121, 265]"
      ]
     },
     "execution_count": 10,
     "metadata": {},
     "output_type": "execute_result"
    }
   ],
   "source": [
    "tokenizer.encode(\"Naresh Karthigeyan\")"
   ]
  },
  {
   "cell_type": "code",
   "execution_count": 11,
   "id": "b57c85e6",
   "metadata": {},
   "outputs": [
    {
     "data": {
      "text/plain": [
       "'Naresh Karthigeyan'"
      ]
     },
     "execution_count": 11,
     "metadata": {},
     "output_type": "execute_result"
    }
   ],
   "source": [
    "tokenizer.decode([946, 75, 292, 261, 105, 407, 121, 265])"
   ]
  },
  {
   "cell_type": "code",
   "execution_count": null,
   "id": "d24c3b25",
   "metadata": {},
   "outputs": [],
   "source": [
    "max_vocab_id = list(tokenizer.vocab.keys())[-1]\n",
    "tokenizer.special_tokens = {\n",
    "    \"<|startoftext|>\": max_vocab_id + 1,\n",
    "    \"<|separator|>\": max_vocab_id + 2,\n",
    "    \"<|endoftext|>\": max_vocab_id + 3,\n",
    "    \"<|unk|>\": max_vocab_id + 4,\n",
    "    \"<|padding|>\": max_vocab_id + 5,\n",
    "}"
   ]
  },
  {
   "cell_type": "code",
   "execution_count": 12,
   "id": "c7f8b5d3",
   "metadata": {},
   "outputs": [
    {
     "data": {
      "text/plain": [
       "1466330"
      ]
     },
     "execution_count": 12,
     "metadata": {},
     "output_type": "execute_result"
    }
   ],
   "source": [
    "len(tokenizer.encode(text_sequence))"
   ]
  },
  {
   "cell_type": "code",
   "execution_count": 14,
   "id": "569e9e95",
   "metadata": {},
   "outputs": [],
   "source": [
    "tokenizer.save(file_prefix=\"../output/tokenizer/my_tokenizer\")"
   ]
  },
  {
   "cell_type": "code",
   "execution_count": 16,
   "id": "881576a8",
   "metadata": {},
   "outputs": [
    {
     "data": {
      "text/plain": [
       "'Naresh Karthigeyo '"
      ]
     },
     "execution_count": 16,
     "metadata": {},
     "output_type": "execute_result"
    }
   ],
   "source": [
    "tokenizer.decode([946, 75, 292, 261, 105, 407, 121, 263])"
   ]
  }
 ],
 "metadata": {
  "kernelspec": {
   "display_name": "base",
   "language": "python",
   "name": "python3"
  },
  "language_info": {
   "codemirror_mode": {
    "name": "ipython",
    "version": 3
   },
   "file_extension": ".py",
   "mimetype": "text/x-python",
   "name": "python",
   "nbconvert_exporter": "python",
   "pygments_lexer": "ipython3",
   "version": "3.12.7"
  }
 },
 "nbformat": 4,
 "nbformat_minor": 5
}
